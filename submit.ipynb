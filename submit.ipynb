{
 "cells": [
  {
   "cell_type": "code",
   "execution_count": 1,
   "id": "e040b0c7",
   "metadata": {
    "_cell_guid": "b1076dfc-b9ad-4769-8c92-a6c4dae69d19",
    "_uuid": "8f2839f25d086af736a60e9eeb907d3b93b6e0e5",
    "execution": {
     "iopub.execute_input": "2023-03-18T06:16:55.339918Z",
     "iopub.status.busy": "2023-03-18T06:16:55.339425Z",
     "iopub.status.idle": "2023-03-18T06:16:58.295581Z",
     "shell.execute_reply": "2023-03-18T06:16:58.294090Z"
    },
    "papermill": {
     "duration": 2.967081,
     "end_time": "2023-03-18T06:16:58.299209",
     "exception": false,
     "start_time": "2023-03-18T06:16:55.332128",
     "status": "completed"
    },
    "tags": []
   },
   "outputs": [],
   "source": [
    "import torch\n",
    "import librosa\n",
    "from pydub import AudioSegment\n",
    "import numpy as np\n",
    "import torch.nn as nn\n",
    "import torch.nn.functional as F\n",
    "import torchvision.transforms as transforms\n",
    "import torch.optim as optim\n",
    "import time\n",
    "import os"
   ]
  },
  {
   "cell_type": "code",
   "execution_count": 2,
   "id": "d20d779a",
   "metadata": {
    "execution": {
     "iopub.execute_input": "2023-03-18T06:16:58.311716Z",
     "iopub.status.busy": "2023-03-18T06:16:58.309305Z",
     "iopub.status.idle": "2023-03-18T06:16:58.327471Z",
     "shell.execute_reply": "2023-03-18T06:16:58.326074Z"
    },
    "papermill": {
     "duration": 0.027281,
     "end_time": "2023-03-18T06:16:58.330780",
     "exception": false,
     "start_time": "2023-03-18T06:16:58.303499",
     "status": "completed"
    },
    "tags": []
   },
   "outputs": [],
   "source": [
    "def GetMfccsFromPath(path):\n",
    "    y, sr = librosa.load(path,sr=10000)\n",
    "    mfccs = librosa.feature.mfcc(y=y, sr=sr,n_mfcc=24)\n",
    "    max_size=200\n",
    "    if mfccs.shape[1]<200:\n",
    "        pad_size=max_size-mfccs.shape[1]\n",
    "        mfccs=np.pad(mfccs,((0,0),(0,pad_size)))\n",
    "    else:\n",
    "        mfccs=mfccs[:,:max_size]\n",
    "    res=torch.from_numpy(mfccs)\n",
    "    res=res.unsqueeze(0)\n",
    "    #res=res.reshape((24*200))\n",
    "    #cache[key]=res\n",
    "    return res\n",
    "import random,glob        \n",
    "row_list=list(glob.glob(\"/kaggle/input/birdclef-2023/test_soundscapes/*.ogg\"))"
   ]
  },
  {
   "cell_type": "code",
   "execution_count": 3,
   "id": "c831d1e6",
   "metadata": {
    "execution": {
     "iopub.execute_input": "2023-03-18T06:16:58.340570Z",
     "iopub.status.busy": "2023-03-18T06:16:58.340039Z",
     "iopub.status.idle": "2023-03-18T06:16:58.345467Z",
     "shell.execute_reply": "2023-03-18T06:16:58.344173Z"
    },
    "papermill": {
     "duration": 0.013336,
     "end_time": "2023-03-18T06:16:58.347997",
     "exception": false,
     "start_time": "2023-03-18T06:16:58.334661",
     "status": "completed"
    },
    "tags": []
   },
   "outputs": [],
   "source": [
    "# from torch.utils.data import Dataset\n",
    "# class TestDataset(Dataset):\n",
    "#     def __init__(self, path_list):\n",
    "#         self.path_list=path_list\n",
    "#     def __getitem__(self, index):\n",
    "#         data=GetMfccsFromPath(self.path_list[index])\n",
    "#         return data\n",
    "#     def __len__(self):\n",
    "#         return len(self.path_list)\n",
    "# test_dataset=TestDataset(row_list)"
   ]
  },
  {
   "cell_type": "code",
   "execution_count": 4,
   "id": "1cbd905d",
   "metadata": {
    "execution": {
     "iopub.execute_input": "2023-03-18T06:16:58.358080Z",
     "iopub.status.busy": "2023-03-18T06:16:58.357598Z",
     "iopub.status.idle": "2023-03-18T06:16:58.362713Z",
     "shell.execute_reply": "2023-03-18T06:16:58.361422Z"
    },
    "papermill": {
     "duration": 0.013541,
     "end_time": "2023-03-18T06:16:58.365536",
     "exception": false,
     "start_time": "2023-03-18T06:16:58.351995",
     "status": "completed"
    },
    "tags": []
   },
   "outputs": [],
   "source": [
    "# from torch.utils.data import DataLoader\n",
    "# test_loader = DataLoader(dataset=test_dataset, batch_size=94, shuffle=False,drop_last=False)"
   ]
  },
  {
   "cell_type": "code",
   "execution_count": 5,
   "id": "5d97c64f",
   "metadata": {
    "execution": {
     "iopub.execute_input": "2023-03-18T06:16:58.375784Z",
     "iopub.status.busy": "2023-03-18T06:16:58.374953Z",
     "iopub.status.idle": "2023-03-18T06:16:58.392287Z",
     "shell.execute_reply": "2023-03-18T06:16:58.390794Z"
    },
    "papermill": {
     "duration": 0.026245,
     "end_time": "2023-03-18T06:16:58.395611",
     "exception": false,
     "start_time": "2023-03-18T06:16:58.369366",
     "status": "completed"
    },
    "tags": []
   },
   "outputs": [],
   "source": [
    "class Net(nn.Module):\n",
    "\n",
    "    def __init__(self):\n",
    "        super(Net,self).__init__()\n",
    "        self.conv1 = nn.Conv2d(1,64,3,padding=1)\n",
    "        self.conv2 = nn.Conv2d(64,64,3,padding=1)\n",
    "        self.pool1 = nn.MaxPool2d(2, 2)\n",
    "        self.bn1 = nn.BatchNorm2d(64)\n",
    "        self.relu1 = nn.ReLU()\n",
    "\n",
    "        self.conv3 = nn.Conv2d(64,128,3,padding=1)\n",
    "        self.conv4 = nn.Conv2d(128, 128, 3,padding=1)\n",
    "        self.pool2 = nn.MaxPool2d(2, 2, padding=1)\n",
    "        self.bn2 = nn.BatchNorm2d(128)\n",
    "        self.relu2 = nn.ReLU()\n",
    "\n",
    "        self.conv5 = nn.Conv2d(128,128, 3,padding=1)\n",
    "        self.conv6 = nn.Conv2d(128, 128, 3,padding=1)\n",
    "        self.conv7 = nn.Conv2d(128, 128, 1,padding=1)\n",
    "        self.pool3 = nn.MaxPool2d(2, 2, padding=1)\n",
    "        self.bn3 = nn.BatchNorm2d(128)\n",
    "        self.relu3 = nn.ReLU()\n",
    "\n",
    "        self.fc14 = nn.Linear(128*5*27,1024)\n",
    "        self.drop1 = nn.Dropout2d()\n",
    "        self.fc15 = nn.Linear(1024,1024)\n",
    "        self.drop2 = nn.Dropout2d()\n",
    "        self.fc16 = nn.Linear(1024,264)\n",
    "\n",
    "\n",
    "    def forward(self,x):\n",
    "        x = self.conv1(x)\n",
    "        x = self.conv2(x)\n",
    "        x = self.pool1(x)\n",
    "        x = self.bn1(x)\n",
    "        x = self.relu1(x)\n",
    "\n",
    "\n",
    "        x = self.conv3(x)\n",
    "        x = self.conv4(x)\n",
    "        x = self.pool2(x)\n",
    "        x = self.bn2(x)\n",
    "        x = self.relu2(x)\n",
    "\n",
    "        x = self.conv5(x)\n",
    "        x = self.conv6(x)\n",
    "        x = self.conv7(x)\n",
    "        x = self.pool3(x)\n",
    "        x = self.bn3(x)\n",
    "        x = self.relu3(x)\n",
    "\n",
    "        #print(\" x shape \",x.size())\n",
    "        x = x.view(-1,128*5*27)\n",
    "        x = F.relu(self.fc14(x))\n",
    "        #x = self.drop1(x)\n",
    "        x = F.relu(self.fc15(x))\n",
    "        #x = self.drop2(x)\n",
    "        x = self.fc16(x)\n",
    "\n",
    "        return x"
   ]
  },
  {
   "cell_type": "code",
   "execution_count": 6,
   "id": "d94bb63c",
   "metadata": {
    "execution": {
     "iopub.execute_input": "2023-03-18T06:16:58.405327Z",
     "iopub.status.busy": "2023-03-18T06:16:58.404856Z",
     "iopub.status.idle": "2023-03-18T06:16:59.261407Z",
     "shell.execute_reply": "2023-03-18T06:16:59.260212Z"
    },
    "papermill": {
     "duration": 0.864847,
     "end_time": "2023-03-18T06:16:59.264360",
     "exception": false,
     "start_time": "2023-03-18T06:16:58.399513",
     "status": "completed"
    },
    "tags": []
   },
   "outputs": [],
   "source": [
    "net=torch.load('/kaggle/input/models/model.h5',map_location=torch.device('cpu'))\n",
    "# net=net.cuda()"
   ]
  },
  {
   "cell_type": "code",
   "execution_count": 7,
   "id": "e0d916bd",
   "metadata": {
    "execution": {
     "iopub.execute_input": "2023-03-18T06:16:59.274573Z",
     "iopub.status.busy": "2023-03-18T06:16:59.274040Z",
     "iopub.status.idle": "2023-03-18T06:16:59.279430Z",
     "shell.execute_reply": "2023-03-18T06:16:59.278438Z"
    },
    "papermill": {
     "duration": 0.013412,
     "end_time": "2023-03-18T06:16:59.281858",
     "exception": false,
     "start_time": "2023-03-18T06:16:59.268446",
     "status": "completed"
    },
    "tags": []
   },
   "outputs": [],
   "source": [
    "import  torch.nn.functional as F"
   ]
  },
  {
   "cell_type": "code",
   "execution_count": 8,
   "id": "30a83f16",
   "metadata": {
    "execution": {
     "iopub.execute_input": "2023-03-18T06:16:59.292665Z",
     "iopub.status.busy": "2023-03-18T06:16:59.291428Z",
     "iopub.status.idle": "2023-03-18T06:17:20.066886Z",
     "shell.execute_reply": "2023-03-18T06:17:20.065266Z"
    },
    "papermill": {
     "duration": 20.7849,
     "end_time": "2023-03-18T06:17:20.070693",
     "exception": false,
     "start_time": "2023-03-18T06:16:59.285793",
     "status": "completed"
    },
    "tags": []
   },
   "outputs": [
    {
     "name": "stdout",
     "output_type": "stream",
     "text": [
      "20.760175466537476\n"
     ]
    }
   ],
   "source": [
    "import pandas as pd\n",
    "s=time.time()\n",
    "names=os.listdir(\"/kaggle/input/birdclef-2023/train_audio\")\n",
    "names.sort()\n",
    "csv_dic={\"row_id\":[]}\n",
    "for key in names:\n",
    "    csv_dic[key]=[]\n",
    "    \n",
    "net.eval()    \n",
    "for index in range(len(row_list)):\n",
    "    soundspace=row_list[index].split(\"/\")[-1].replace(\".ogg\",\"\")\n",
    "    y, sr = librosa.load(row_list[index],sr=20000)\n",
    "    res=y.reshape(120,y.shape[0]//120)\n",
    "    \n",
    "    mfccss=torch.zeros(120,1,24,200)\n",
    "    order=0\n",
    "    for i in res:\n",
    "        mfccs = librosa.feature.mfcc(y=i, sr=sr,n_mfcc=24)\n",
    "        mfccs=np.pad(mfccs,((0,0),(0,4)))\n",
    "        mfccs=torch.from_numpy(mfccs)\n",
    "        mfccs=mfccs.unsqueeze(0)\n",
    "        mfccss[order]=mfccs\n",
    "        order+=1\n",
    "    res=net(mfccss)\n",
    "    outputs = F.softmax(res,dim=1)\n",
    "    frame=5\n",
    "    for j in range(outputs.shape[0]):\n",
    "        for i,row in enumerate(names):\n",
    "            csv_dic[row].append(int(outputs[j][i].item()*100000)/100000)\n",
    "        csv_dic[\"row_id\"].append(soundspace+\"_\"+str(frame))\n",
    "        frame+=5\n",
    "\n",
    "print(time.time()-s)"
   ]
  },
  {
   "cell_type": "code",
   "execution_count": 9,
   "id": "3ea711d9",
   "metadata": {
    "execution": {
     "iopub.execute_input": "2023-03-18T06:17:20.081854Z",
     "iopub.status.busy": "2023-03-18T06:17:20.081004Z",
     "iopub.status.idle": "2023-03-18T06:17:20.106290Z",
     "shell.execute_reply": "2023-03-18T06:17:20.104855Z"
    },
    "papermill": {
     "duration": 0.034269,
     "end_time": "2023-03-18T06:17:20.109229",
     "exception": false,
     "start_time": "2023-03-18T06:17:20.074960",
     "status": "completed"
    },
    "tags": []
   },
   "outputs": [],
   "source": [
    "dataframe = pd.DataFrame(csv_dic)"
   ]
  },
  {
   "cell_type": "code",
   "execution_count": 10,
   "id": "3a156664",
   "metadata": {
    "execution": {
     "iopub.execute_input": "2023-03-18T06:17:20.119284Z",
     "iopub.status.busy": "2023-03-18T06:17:20.118779Z",
     "iopub.status.idle": "2023-03-18T06:17:20.176357Z",
     "shell.execute_reply": "2023-03-18T06:17:20.174769Z"
    },
    "papermill": {
     "duration": 0.066043,
     "end_time": "2023-03-18T06:17:20.179300",
     "exception": false,
     "start_time": "2023-03-18T06:17:20.113257",
     "status": "completed"
    },
    "tags": []
   },
   "outputs": [
    {
     "data": {
      "text/html": [
       "<div>\n",
       "<style scoped>\n",
       "    .dataframe tbody tr th:only-of-type {\n",
       "        vertical-align: middle;\n",
       "    }\n",
       "\n",
       "    .dataframe tbody tr th {\n",
       "        vertical-align: top;\n",
       "    }\n",
       "\n",
       "    .dataframe thead th {\n",
       "        text-align: right;\n",
       "    }\n",
       "</style>\n",
       "<table border=\"1\" class=\"dataframe\">\n",
       "  <thead>\n",
       "    <tr style=\"text-align: right;\">\n",
       "      <th></th>\n",
       "      <th>row_id</th>\n",
       "      <th>abethr1</th>\n",
       "      <th>abhori1</th>\n",
       "      <th>abythr1</th>\n",
       "      <th>afbfly1</th>\n",
       "      <th>afdfly1</th>\n",
       "      <th>afecuc1</th>\n",
       "      <th>affeag1</th>\n",
       "      <th>afgfly1</th>\n",
       "      <th>afghor1</th>\n",
       "      <th>...</th>\n",
       "      <th>yebsto1</th>\n",
       "      <th>yeccan1</th>\n",
       "      <th>yefcan</th>\n",
       "      <th>yelbis1</th>\n",
       "      <th>yenspu1</th>\n",
       "      <th>yertin1</th>\n",
       "      <th>yesbar1</th>\n",
       "      <th>yespet1</th>\n",
       "      <th>yetgre1</th>\n",
       "      <th>yewgre1</th>\n",
       "    </tr>\n",
       "  </thead>\n",
       "  <tbody>\n",
       "    <tr>\n",
       "      <th>0</th>\n",
       "      <td>soundscape_29201_5</td>\n",
       "      <td>0.0</td>\n",
       "      <td>0.00000</td>\n",
       "      <td>0.0</td>\n",
       "      <td>0.0</td>\n",
       "      <td>0.0</td>\n",
       "      <td>0.00131</td>\n",
       "      <td>0.0</td>\n",
       "      <td>0.0</td>\n",
       "      <td>0.0</td>\n",
       "      <td>...</td>\n",
       "      <td>0.0</td>\n",
       "      <td>0.0</td>\n",
       "      <td>0.0</td>\n",
       "      <td>0.00000</td>\n",
       "      <td>0.0</td>\n",
       "      <td>0.0</td>\n",
       "      <td>0.0</td>\n",
       "      <td>0.0</td>\n",
       "      <td>0.0</td>\n",
       "      <td>0.0</td>\n",
       "    </tr>\n",
       "    <tr>\n",
       "      <th>1</th>\n",
       "      <td>soundscape_29201_10</td>\n",
       "      <td>0.0</td>\n",
       "      <td>0.00000</td>\n",
       "      <td>0.0</td>\n",
       "      <td>0.0</td>\n",
       "      <td>0.0</td>\n",
       "      <td>0.00000</td>\n",
       "      <td>0.0</td>\n",
       "      <td>0.0</td>\n",
       "      <td>0.0</td>\n",
       "      <td>...</td>\n",
       "      <td>0.0</td>\n",
       "      <td>0.0</td>\n",
       "      <td>0.0</td>\n",
       "      <td>0.00054</td>\n",
       "      <td>0.0</td>\n",
       "      <td>0.0</td>\n",
       "      <td>0.0</td>\n",
       "      <td>0.0</td>\n",
       "      <td>0.0</td>\n",
       "      <td>0.0</td>\n",
       "    </tr>\n",
       "    <tr>\n",
       "      <th>2</th>\n",
       "      <td>soundscape_29201_15</td>\n",
       "      <td>0.0</td>\n",
       "      <td>0.00878</td>\n",
       "      <td>0.0</td>\n",
       "      <td>0.0</td>\n",
       "      <td>0.0</td>\n",
       "      <td>0.00000</td>\n",
       "      <td>0.0</td>\n",
       "      <td>0.0</td>\n",
       "      <td>0.0</td>\n",
       "      <td>...</td>\n",
       "      <td>0.0</td>\n",
       "      <td>0.0</td>\n",
       "      <td>0.0</td>\n",
       "      <td>0.00000</td>\n",
       "      <td>0.0</td>\n",
       "      <td>0.0</td>\n",
       "      <td>0.0</td>\n",
       "      <td>0.0</td>\n",
       "      <td>0.0</td>\n",
       "      <td>0.0</td>\n",
       "    </tr>\n",
       "    <tr>\n",
       "      <th>3</th>\n",
       "      <td>soundscape_29201_20</td>\n",
       "      <td>0.0</td>\n",
       "      <td>0.00000</td>\n",
       "      <td>0.0</td>\n",
       "      <td>0.0</td>\n",
       "      <td>0.0</td>\n",
       "      <td>0.00000</td>\n",
       "      <td>0.0</td>\n",
       "      <td>0.0</td>\n",
       "      <td>0.0</td>\n",
       "      <td>...</td>\n",
       "      <td>0.0</td>\n",
       "      <td>0.0</td>\n",
       "      <td>0.0</td>\n",
       "      <td>0.00000</td>\n",
       "      <td>0.0</td>\n",
       "      <td>0.0</td>\n",
       "      <td>0.0</td>\n",
       "      <td>0.0</td>\n",
       "      <td>0.0</td>\n",
       "      <td>0.0</td>\n",
       "    </tr>\n",
       "    <tr>\n",
       "      <th>4</th>\n",
       "      <td>soundscape_29201_25</td>\n",
       "      <td>0.0</td>\n",
       "      <td>0.00000</td>\n",
       "      <td>0.0</td>\n",
       "      <td>0.0</td>\n",
       "      <td>0.0</td>\n",
       "      <td>0.00000</td>\n",
       "      <td>0.0</td>\n",
       "      <td>0.0</td>\n",
       "      <td>0.0</td>\n",
       "      <td>...</td>\n",
       "      <td>0.0</td>\n",
       "      <td>0.0</td>\n",
       "      <td>0.0</td>\n",
       "      <td>0.00000</td>\n",
       "      <td>0.0</td>\n",
       "      <td>0.0</td>\n",
       "      <td>0.0</td>\n",
       "      <td>0.0</td>\n",
       "      <td>0.0</td>\n",
       "      <td>0.0</td>\n",
       "    </tr>\n",
       "  </tbody>\n",
       "</table>\n",
       "<p>5 rows × 265 columns</p>\n",
       "</div>"
      ],
      "text/plain": [
       "                row_id  abethr1  abhori1  abythr1  afbfly1  afdfly1  afecuc1  \\\n",
       "0   soundscape_29201_5      0.0  0.00000      0.0      0.0      0.0  0.00131   \n",
       "1  soundscape_29201_10      0.0  0.00000      0.0      0.0      0.0  0.00000   \n",
       "2  soundscape_29201_15      0.0  0.00878      0.0      0.0      0.0  0.00000   \n",
       "3  soundscape_29201_20      0.0  0.00000      0.0      0.0      0.0  0.00000   \n",
       "4  soundscape_29201_25      0.0  0.00000      0.0      0.0      0.0  0.00000   \n",
       "\n",
       "   affeag1  afgfly1  afghor1  ...  yebsto1  yeccan1  yefcan  yelbis1  yenspu1  \\\n",
       "0      0.0      0.0      0.0  ...      0.0      0.0     0.0  0.00000      0.0   \n",
       "1      0.0      0.0      0.0  ...      0.0      0.0     0.0  0.00054      0.0   \n",
       "2      0.0      0.0      0.0  ...      0.0      0.0     0.0  0.00000      0.0   \n",
       "3      0.0      0.0      0.0  ...      0.0      0.0     0.0  0.00000      0.0   \n",
       "4      0.0      0.0      0.0  ...      0.0      0.0     0.0  0.00000      0.0   \n",
       "\n",
       "   yertin1  yesbar1  yespet1  yetgre1  yewgre1  \n",
       "0      0.0      0.0      0.0      0.0      0.0  \n",
       "1      0.0      0.0      0.0      0.0      0.0  \n",
       "2      0.0      0.0      0.0      0.0      0.0  \n",
       "3      0.0      0.0      0.0      0.0      0.0  \n",
       "4      0.0      0.0      0.0      0.0      0.0  \n",
       "\n",
       "[5 rows x 265 columns]"
      ]
     },
     "execution_count": 10,
     "metadata": {},
     "output_type": "execute_result"
    }
   ],
   "source": [
    "dataframe.head()"
   ]
  },
  {
   "cell_type": "code",
   "execution_count": 11,
   "id": "54565340",
   "metadata": {
    "execution": {
     "iopub.execute_input": "2023-03-18T06:17:20.190649Z",
     "iopub.status.busy": "2023-03-18T06:17:20.189735Z",
     "iopub.status.idle": "2023-03-18T06:17:20.221211Z",
     "shell.execute_reply": "2023-03-18T06:17:20.219722Z"
    },
    "papermill": {
     "duration": 0.040659,
     "end_time": "2023-03-18T06:17:20.224463",
     "exception": false,
     "start_time": "2023-03-18T06:17:20.183804",
     "status": "completed"
    },
    "tags": []
   },
   "outputs": [],
   "source": [
    "dataframe.to_csv(\"submission.csv\",index=False,sep=',')"
   ]
  }
 ],
 "metadata": {
  "kernelspec": {
   "display_name": "Python 3",
   "language": "python",
   "name": "python3"
  },
  "language_info": {
   "codemirror_mode": {
    "name": "ipython",
    "version": 3
   },
   "file_extension": ".py",
   "mimetype": "text/x-python",
   "name": "python",
   "nbconvert_exporter": "python",
   "pygments_lexer": "ipython3",
   "version": "3.7.12"
  },
  "papermill": {
   "default_parameters": {},
   "duration": 39.272331,
   "end_time": "2023-03-18T06:17:22.834279",
   "environment_variables": {},
   "exception": null,
   "input_path": "__notebook__.ipynb",
   "output_path": "__notebook__.ipynb",
   "parameters": {},
   "start_time": "2023-03-18T06:16:43.561948",
   "version": "2.4.0"
  }
 },
 "nbformat": 4,
 "nbformat_minor": 5
}
